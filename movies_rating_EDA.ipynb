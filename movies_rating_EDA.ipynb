{
 "cells": [
  {
   "cell_type": "code",
   "execution_count": 57,
   "id": "e11fc5bc",
   "metadata": {},
   "outputs": [],
   "source": [
    "import pandas as pd\n",
    "import json \n",
    "from collections import ChainMap\n",
    "import re"
   ]
  },
  {
   "cell_type": "code",
   "execution_count": 5,
   "id": "3bed75d4",
   "metadata": {},
   "outputs": [],
   "source": [
    "f = open('movies.json', encoding=\"utf8\")"
   ]
  },
  {
   "cell_type": "code",
   "execution_count": 6,
   "id": "c7af9404",
   "metadata": {},
   "outputs": [],
   "source": [
    "data = json.load(f)"
   ]
  },
  {
   "cell_type": "code",
   "execution_count": 9,
   "id": "a0918575",
   "metadata": {},
   "outputs": [],
   "source": [
    "df = pd.json_normalize(data)"
   ]
  },
  {
   "cell_type": "code",
   "execution_count": 48,
   "id": "81116287",
   "metadata": {},
   "outputs": [],
   "source": [
    "def list2dict(a):\n",
    "    re = {}\n",
    "    if a == None:\n",
    "        return None\n",
    "    else:\n",
    "        for item in a:\n",
    "            re.update(item)\n",
    "        return re"
   ]
  },
  {
   "cell_type": "code",
   "execution_count": 51,
   "id": "f75c0352",
   "metadata": {},
   "outputs": [],
   "source": [
    "df['box_office'] = df['box_office'].apply(lambda x: list2dict(x))"
   ]
  },
  {
   "cell_type": "code",
   "execution_count": 78,
   "id": "7ec2d192",
   "metadata": {},
   "outputs": [],
   "source": [
    "df['Budget'] = df['box_office'].apply(lambda x: int(''.join(filter(str.isdigit,x.get('Budget')))) if x!= None and x.get('Budget') != None else None)"
   ]
  },
  {
   "cell_type": "code",
   "execution_count": 83,
   "id": "41ddead5",
   "metadata": {},
   "outputs": [],
   "source": [
    "df['gross'] = df['box_office'].apply(lambda x: int(''.join(filter(str.isdigit,x.get('Gross worldwide')))) if x!= None and x.get('Gross worldwide') != None else None)"
   ]
  },
  {
   "cell_type": "code",
   "execution_count": 101,
   "id": "9ffd3f2b",
   "metadata": {},
   "outputs": [
    {
     "data": {
      "text/plain": [
       "0                             [Drama]\n",
       "1                      [Crime, Drama]\n",
       "2              [Action, Crime, Drama]\n",
       "3                      [Crime, Drama]\n",
       "4                      [Crime, Drama]\n",
       "                    ...              \n",
       "245    [Animation, Action, Adventure]\n",
       "246    [Animation, Adventure, Comedy]\n",
       "247                           [Drama]\n",
       "248       [Biography, Drama, History]\n",
       "249       [Action, Adventure, Comedy]\n",
       "Name: genre, Length: 250, dtype: object"
      ]
     },
     "execution_count": 101,
     "metadata": {},
     "output_type": "execute_result"
    }
   ],
   "source": [
    "df.genre"
   ]
  },
  {
   "cell_type": "code",
   "execution_count": 99,
   "id": "b871eb97",
   "metadata": {},
   "outputs": [
    {
     "data": {
      "text/plain": [
       "0      3\n",
       "1      3\n",
       "2      3\n",
       "3      3\n",
       "4      3\n",
       "      ..\n",
       "245    3\n",
       "246    3\n",
       "247    3\n",
       "248    3\n",
       "249    3\n",
       "Name: actor, Length: 250, dtype: int64"
      ]
     },
     "execution_count": 99,
     "metadata": {},
     "output_type": "execute_result"
    }
   ],
   "source": [
    "df['actor'].apply(lambda x: len(x))"
   ]
  },
  {
   "cell_type": "code",
   "execution_count": 91,
   "id": "26f38bf4",
   "metadata": {},
   "outputs": [
    {
     "data": {
      "text/html": [
       "<div>\n",
       "<style scoped>\n",
       "    .dataframe tbody tr th:only-of-type {\n",
       "        vertical-align: middle;\n",
       "    }\n",
       "\n",
       "    .dataframe tbody tr th {\n",
       "        vertical-align: top;\n",
       "    }\n",
       "\n",
       "    .dataframe thead th {\n",
       "        text-align: right;\n",
       "    }\n",
       "</style>\n",
       "<table border=\"1\" class=\"dataframe\">\n",
       "  <thead>\n",
       "    <tr style=\"text-align: right;\">\n",
       "      <th></th>\n",
       "      <th>rating.ratingCount</th>\n",
       "      <th>rating.ratingValue</th>\n",
       "      <th>Budget</th>\n",
       "      <th>gross</th>\n",
       "    </tr>\n",
       "  </thead>\n",
       "  <tbody>\n",
       "    <tr>\n",
       "      <th>0</th>\n",
       "      <td>2673926</td>\n",
       "      <td>9.3</td>\n",
       "      <td>25000000.0</td>\n",
       "      <td>2.888450e+07</td>\n",
       "    </tr>\n",
       "    <tr>\n",
       "      <th>1</th>\n",
       "      <td>1853245</td>\n",
       "      <td>9.2</td>\n",
       "      <td>6000000.0</td>\n",
       "      <td>2.503418e+08</td>\n",
       "    </tr>\n",
       "    <tr>\n",
       "      <th>2</th>\n",
       "      <td>2646908</td>\n",
       "      <td>9.0</td>\n",
       "      <td>185000000.0</td>\n",
       "      <td>1.006234e+09</td>\n",
       "    </tr>\n",
       "    <tr>\n",
       "      <th>3</th>\n",
       "      <td>1268868</td>\n",
       "      <td>9.0</td>\n",
       "      <td>13000000.0</td>\n",
       "      <td>4.796192e+07</td>\n",
       "    </tr>\n",
       "    <tr>\n",
       "      <th>4</th>\n",
       "      <td>789853</td>\n",
       "      <td>9.0</td>\n",
       "      <td>350000.0</td>\n",
       "      <td>9.550000e+02</td>\n",
       "    </tr>\n",
       "    <tr>\n",
       "      <th>...</th>\n",
       "      <td>...</td>\n",
       "      <td>...</td>\n",
       "      <td>...</td>\n",
       "      <td>...</td>\n",
       "    </tr>\n",
       "    <tr>\n",
       "      <th>245</th>\n",
       "      <td>199876</td>\n",
       "      <td>8.1</td>\n",
       "      <td>70000000.0</td>\n",
       "      <td>2.333582e+07</td>\n",
       "    </tr>\n",
       "    <tr>\n",
       "      <th>246</th>\n",
       "      <td>421566</td>\n",
       "      <td>8.0</td>\n",
       "      <td>28000000.0</td>\n",
       "      <td>5.040502e+08</td>\n",
       "    </tr>\n",
       "    <tr>\n",
       "      <th>247</th>\n",
       "      <td>460652</td>\n",
       "      <td>8.1</td>\n",
       "      <td>25000000.0</td>\n",
       "      <td>2.166391e+08</td>\n",
       "    </tr>\n",
       "    <tr>\n",
       "      <th>248</th>\n",
       "      <td>232793</td>\n",
       "      <td>8.1</td>\n",
       "      <td>22000000.0</td>\n",
       "      <td>5.276789e+07</td>\n",
       "    </tr>\n",
       "    <tr>\n",
       "      <th>249</th>\n",
       "      <td>256554</td>\n",
       "      <td>8.1</td>\n",
       "      <td>25000000.0</td>\n",
       "      <td>1.033844e+08</td>\n",
       "    </tr>\n",
       "  </tbody>\n",
       "</table>\n",
       "<p>250 rows × 4 columns</p>\n",
       "</div>"
      ],
      "text/plain": [
       "     rating.ratingCount  rating.ratingValue       Budget         gross\n",
       "0               2673926                 9.3   25000000.0  2.888450e+07\n",
       "1               1853245                 9.2    6000000.0  2.503418e+08\n",
       "2               2646908                 9.0  185000000.0  1.006234e+09\n",
       "3               1268868                 9.0   13000000.0  4.796192e+07\n",
       "4                789853                 9.0     350000.0  9.550000e+02\n",
       "..                  ...                 ...          ...           ...\n",
       "245              199876                 8.1   70000000.0  2.333582e+07\n",
       "246              421566                 8.0   28000000.0  5.040502e+08\n",
       "247              460652                 8.1   25000000.0  2.166391e+08\n",
       "248              232793                 8.1   22000000.0  5.276789e+07\n",
       "249              256554                 8.1   25000000.0  1.033844e+08\n",
       "\n",
       "[250 rows x 4 columns]"
      ]
     },
     "execution_count": 91,
     "metadata": {},
     "output_type": "execute_result"
    }
   ],
   "source": [
    "df[['rating.ratingCount','rating.ratingValue','Budget','gross']]"
   ]
  }
 ],
 "metadata": {
  "kernelspec": {
   "display_name": "Python 3",
   "language": "python",
   "name": "python3"
  },
  "language_info": {
   "codemirror_mode": {
    "name": "ipython",
    "version": 3
   },
   "file_extension": ".py",
   "mimetype": "text/x-python",
   "name": "python",
   "nbconvert_exporter": "python",
   "pygments_lexer": "ipython3",
   "version": "3.8.8"
  }
 },
 "nbformat": 4,
 "nbformat_minor": 5
}
