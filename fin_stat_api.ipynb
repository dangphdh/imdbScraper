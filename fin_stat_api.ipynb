{
 "cells": [
  {
   "cell_type": "code",
   "execution_count": 1,
   "metadata": {},
   "outputs": [],
   "source": [
    "import requests\n",
    "import pandas as pd\n",
    "from fake_useragent import UserAgent\n",
    "from requests_tor import RequestsTor"
   ]
  },
  {
   "cell_type": "code",
   "execution_count": 2,
   "metadata": {},
   "outputs": [],
   "source": [
    "link_model = 'https://finfo-api.vndirect.com.vn/v4/financial_models?sort=displayOrder:asc&q=~note:TT199/2014/TT-BTC,TT334/2016/TT-BTC,TT49/2014/TT-NHNN,TT202/2014/TT-BTC~displayLevel:0,1,2,3&size=10000'"
   ]
  },
  {
   "cell_type": "code",
   "execution_count": 3,
   "metadata": {},
   "outputs": [],
   "source": [
    "baseUrl = 'https://finfo-api.vndirect.com.vn/v4/financial_statements?q=code:'"
   ]
  },
  {
   "cell_type": "code",
   "execution_count": 4,
   "metadata": {},
   "outputs": [],
   "source": [
    "BsType = '~reportType:QUARTER~modelType:1,89,101,411'\n",
    "Income = '~reportType:QUARTER~modelType:2,90,102,412'\n",
    "CashFlow = '~reportType:QUARTER~modelType:3,31,103,413'\n",
    "allFS = '~reportType:QUARTER~modelType:1,89,101,411,2,90,102,412,3,31,103,413'\n",
    "endUrl = '~fiscalDate:2023-03-31,2022-12-31,2022-09-30,2022-06-30,2022-03-31,2021-12-31,2021-09-30,2021-06-30,2021-03-31&sort=fiscalDate&size=10000'"
   ]
  },
  {
   "cell_type": "code",
   "execution_count": 5,
   "metadata": {},
   "outputs": [],
   "source": [
    "ua = UserAgent()"
   ]
  },
  {
   "cell_type": "code",
   "execution_count": 6,
   "metadata": {},
   "outputs": [],
   "source": [
    "re = requests.get(link_model, verify=True, headers = {'User-Agent':ua.random})"
   ]
  },
  {
   "cell_type": "code",
   "execution_count": 7,
   "metadata": {},
   "outputs": [],
   "source": [
    "modelDF = pd.DataFrame(re.json()['data'])"
   ]
  },
  {
   "cell_type": "code",
   "execution_count": 8,
   "metadata": {},
   "outputs": [],
   "source": [
    "modelDF.to_csv('./model_fin_stat.csv')"
   ]
  },
  {
   "cell_type": "code",
   "execution_count": 9,
   "metadata": {},
   "outputs": [],
   "source": [
    "codeList = pd.DataFrame(re.json()['data']).codeList.unique()"
   ]
  },
  {
   "cell_type": "code",
   "execution_count": 10,
   "metadata": {},
   "outputs": [],
   "source": [
    "codeItems = []\n",
    "for li in codeList:\n",
    "    li = li.split(',')\n",
    "    for i in li:\n",
    "        if len(i) <=4:\n",
    "            codeItems.append(i)"
   ]
  },
  {
   "cell_type": "code",
   "execution_count": 11,
   "metadata": {},
   "outputs": [
    {
     "data": {
      "text/plain": [
       "1957"
      ]
     },
     "execution_count": 11,
     "metadata": {},
     "output_type": "execute_result"
    }
   ],
   "source": [
    "len(codeItems)"
   ]
  },
  {
   "cell_type": "code",
   "execution_count": 12,
   "metadata": {},
   "outputs": [],
   "source": [
    "rt = RequestsTor()"
   ]
  },
  {
   "cell_type": "code",
   "execution_count": 13,
   "metadata": {},
   "outputs": [],
   "source": [
    "dfs = []"
   ]
  },
  {
   "cell_type": "code",
   "execution_count": 14,
   "metadata": {},
   "outputs": [],
   "source": [
    "for item in codeItems[0:10]:\n",
    "    linkAll = baseUrl + item + endUrl\n",
    "    re = rt.get(linkAll)\n",
    "    # print(re.status_code)\n",
    "    if re.status_code != 200:\n",
    "        rt.new_id()\n",
    "        re = rt.get(linkAll)\n",
    "        # print(re.status_code)\n",
    "    df = pd.DataFrame(re.json()['data'])\n",
    "    df.to_csv('./fin_stat_data.csv', mode= 'a')"
   ]
  },
  {
   "cell_type": "code",
   "execution_count": 62,
   "metadata": {},
   "outputs": [],
   "source": [
    "def get_fs_date(ticker):\n",
    "    linkAll = baseUrl + ticker + endUrl\n",
    "    re = rt.get(linkAll)\n",
    "    # print(re.status_code)\n",
    "    if re.status_code != 200:\n",
    "        rt.new_id()\n",
    "        re = rt.get(linkAll)\n",
    "        # print(re.status_code)\n",
    "    df = pd.DataFrame(re.json()['data'])\n",
    "    df.to_csv('./fin_stat_data.csv', mode= 'a')\n",
    "    return df"
   ]
  }
 ],
 "metadata": {
  "kernelspec": {
   "display_name": "base",
   "language": "python",
   "name": "python3"
  },
  "language_info": {
   "codemirror_mode": {
    "name": "ipython",
    "version": 3
   },
   "file_extension": ".py",
   "mimetype": "text/x-python",
   "name": "python",
   "nbconvert_exporter": "python",
   "pygments_lexer": "ipython3",
   "version": "3.9.16"
  },
  "orig_nbformat": 4,
  "vscode": {
   "interpreter": {
    "hash": "ad2bdc8ecc057115af97d19610ffacc2b4e99fae6737bb82f5d7fb13d2f2c186"
   }
  }
 },
 "nbformat": 4,
 "nbformat_minor": 2
}
