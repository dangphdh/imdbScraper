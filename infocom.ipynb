{
 "cells": [
  {
   "cell_type": "code",
   "execution_count": 54,
   "metadata": {},
   "outputs": [],
   "source": [
    "import requests\n",
    "import pandas as pd\n",
    "from latest_user_agents import get_latest_user_agents\n",
    "from requests_tor import RequestsTor\n",
    "import random\n",
    "from bs4 import BeautifulSoup\n",
    "from lxml import etree"
   ]
  },
  {
   "cell_type": "code",
   "execution_count": 5,
   "metadata": {},
   "outputs": [],
   "source": [
    "cookies = {\n",
    "    '__gads': 'ID=674386c2fe63c752-22719b2ca1dc0061:T=1676825859:RT=1676825859:S=ALNI_MaknXP0r6ZrrmKJDZMPMp3Zwe39Lg',\n",
    "    '__gpi': 'UID=00000bc64a0ac60c:T=1676825859:RT=1677076811:S=ALNI_MYpJjnRk9E3mMkuXvjyYEVbcNSn6A',\n",
    "    '_ga_9Y2EDCGM3S': 'GS1.1.1677076810.5.0.1677076810.0.0.0',\n",
    "    '_ga': 'GA1.1.1622557181.1676825859',\n",
    "    'XSRF-TOKEN': 'eyJpdiI6Ilh6U1Fmb1Q4bC9aWDlodU1tVlMrREE9PSIsInZhbHVlIjoiSEh5VTQvK0NkZTM5T2YyVWRkMElEYlMwVE1QUTNTWFBZRnJxYzd3bFpVV3g1VGVBam1EU2MxazQ2LzllRGIwbFcvVkc2cWEwb0hET3FNRHpoeHMyYWlXbjdjdTZ5UENTSGdMbGk2OW91NXZ6VHdBNVJ1UWNIL0R1M3FzQW5XNTMiLCJtYWMiOiI1ZjczNjBhZjk3YTUwMWFiMzk2MDU3MTg4OTk3MzdiZjg1ZGRhMTQzNDg2MjkyMzgzYzEyODc0YWMzMTlhNjgwIiwidGFnIjoiIn0%3D',\n",
    "    'laravel_session': 'eyJpdiI6Ii9iTjBjS1Rxc1o4aHJlTTBGZUN1U2c9PSIsInZhbHVlIjoiSkpuNGV6Z1FOb1BNTnhNRzl4Y2xFZUJ3MnlGRWowN3hWUSs1Z0s3VlUxdGl2WGNrbkVNN21oZjkvZWRXQ0N6cmxCU3cvb2wzdE01MlJ3d3RhQnlwSEM0Z3Jyay9FWS9meEordW0vM2NMdW5qM3RyL2o0a09POENjWjQvazNKMzYiLCJtYWMiOiI5ZDFhNTcyZjQzYWUyNGI3M2U1Mzg5YzdjY2JlYjdkODVlOTRmOWQ1NDM3OTgwZDkyZDRhOGFmZWM1OGY2MWU0IiwidGFnIjoiIn0%3D',\n",
    "}\n",
    "\n",
    "headers = {\n",
    "    'User-Agent': 'Mozilla/5.0 (X11; Ubuntu; Linux x86_64; rv:109.0) Gecko/20100101 Firefox/110.0',\n",
    "    'Accept': 'text/html,application/xhtml+xml,application/xml;q=0.9,image/avif,image/webp,*/*;q=0.8',\n",
    "    'Accept-Language': 'en-US,en;q=0.5',\n",
    "    # 'Accept-Encoding': 'gzip, deflate, br',\n",
    "    'Alt-Used': 'infocom.vn',\n",
    "    'Connection': 'keep-alive',\n",
    "    # 'Cookie': '__gads=ID=674386c2fe63c752-22719b2ca1dc0061:T=1676825859:RT=1676825859:S=ALNI_MaknXP0r6ZrrmKJDZMPMp3Zwe39Lg; __gpi=UID=00000bc64a0ac60c:T=1676825859:RT=1677076811:S=ALNI_MYpJjnRk9E3mMkuXvjyYEVbcNSn6A; _ga_9Y2EDCGM3S=GS1.1.1677076810.5.0.1677076810.0.0.0; _ga=GA1.1.1622557181.1676825859; XSRF-TOKEN=eyJpdiI6Ilh6U1Fmb1Q4bC9aWDlodU1tVlMrREE9PSIsInZhbHVlIjoiSEh5VTQvK0NkZTM5T2YyVWRkMElEYlMwVE1QUTNTWFBZRnJxYzd3bFpVV3g1VGVBam1EU2MxazQ2LzllRGIwbFcvVkc2cWEwb0hET3FNRHpoeHMyYWlXbjdjdTZ5UENTSGdMbGk2OW91NXZ6VHdBNVJ1UWNIL0R1M3FzQW5XNTMiLCJtYWMiOiI1ZjczNjBhZjk3YTUwMWFiMzk2MDU3MTg4OTk3MzdiZjg1ZGRhMTQzNDg2MjkyMzgzYzEyODc0YWMzMTlhNjgwIiwidGFnIjoiIn0%3D; laravel_session=eyJpdiI6Ii9iTjBjS1Rxc1o4aHJlTTBGZUN1U2c9PSIsInZhbHVlIjoiSkpuNGV6Z1FOb1BNTnhNRzl4Y2xFZUJ3MnlGRWowN3hWUSs1Z0s3VlUxdGl2WGNrbkVNN21oZjkvZWRXQ0N6cmxCU3cvb2wzdE01MlJ3d3RhQnlwSEM0Z3Jyay9FWS9meEordW0vM2NMdW5qM3RyL2o0a09POENjWjQvazNKMzYiLCJtYWMiOiI5ZDFhNTcyZjQzYWUyNGI3M2U1Mzg5YzdjY2JlYjdkODVlOTRmOWQ1NDM3OTgwZDkyZDRhOGFmZWM1OGY2MWU0IiwidGFnIjoiIn0%3D',\n",
    "    'Upgrade-Insecure-Requests': '1',\n",
    "    'Sec-Fetch-Dest': 'document',\n",
    "    'Sec-Fetch-Mode': 'navigate',\n",
    "    'Sec-Fetch-Site': 'cross-site',\n",
    "}\n",
    "\n",
    "response = requests.get('https://infocom.vn/moi-thanh-lap', headers=headers)\n",
    "\n"
   ]
  },
  {
   "cell_type": "code",
   "execution_count": 10,
   "metadata": {},
   "outputs": [],
   "source": [
    "soup = BeautifulSoup(response.content, 'html.parser')"
   ]
  },
  {
   "cell_type": "code",
   "execution_count": 15,
   "metadata": {},
   "outputs": [],
   "source": [
    "lst_com = soup.find('div', {'class': 'box-news-right'}).find_all('div', {'class': 'box-right-news-home'})"
   ]
  },
  {
   "cell_type": "code",
   "execution_count": 16,
   "metadata": {},
   "outputs": [],
   "source": [
    "link_lst = list(map(lambda x: x.a['href'], lst_com))"
   ]
  },
  {
   "cell_type": "code",
   "execution_count": 18,
   "metadata": {},
   "outputs": [
    {
     "data": {
      "text/plain": [
       "35"
      ]
     },
     "execution_count": 18,
     "metadata": {},
     "output_type": "execute_result"
    }
   ],
   "source": [
    "len(link_lst)"
   ]
  },
  {
   "cell_type": "code",
   "execution_count": 20,
   "metadata": {},
   "outputs": [],
   "source": [
    "headers = {\n",
    "    'User-Agent': 'Mozilla/5.0 (X11; Ubuntu; Linux x86_64; rv:109.0) Gecko/20100101 Firefox/110.0',\n",
    "    'Accept': 'text/html,application/xhtml+xml,application/xml;q=0.9,image/avif,image/webp,*/*;q=0.8',\n",
    "    'Accept-Language': 'en-US,en;q=0.5',\n",
    "    # 'Accept-Encoding': 'gzip, deflate, br',\n",
    "    'Alt-Used': 'infocom.vn',\n",
    "    'Connection': 'keep-alive',\n",
    "    'Referer': 'https://infocom.vn/moi-thanh-lap',\n",
    "    # 'Cookie': '__gads=ID=674386c2fe63c752-22719b2ca1dc0061:T=1676825859:RT=1676825859:S=ALNI_MaknXP0r6ZrrmKJDZMPMp3Zwe39Lg; __gpi=UID=00000bc64a0ac60c:T=1676825859:RT=1677076811:S=ALNI_MYpJjnRk9E3mMkuXvjyYEVbcNSn6A; _ga_9Y2EDCGM3S=GS1.1.1677076810.5.1.1677077408.0.0.0; _ga=GA1.1.1622557181.1676825859; XSRF-TOKEN=eyJpdiI6ImhCV1JmbGZlYWlOcFJuRDhLcy9TeGc9PSIsInZhbHVlIjoiWUwvcFFWYzBHTTJJc3FVTUk1d2xleG85ZHVHUGw0NnZ6Mk1GbVBGYXd2ZjFFTEUwdnBRVXRpVCtrNEhwTDAwbVdsNkNaeU9wRzZDOUNjTmI0RE1xZFphZ0dNUHowSHJUWkdubTRKeEhZa0dMbFQ4YWxZV05iM2dTWGZDVlNGVEoiLCJtYWMiOiIxMDBjNjAyMTZlMmNkY2I4NWE2ZWQxZjVmOTgwOGI2ZGNmZTg0MGIyNzNhMzVmZDEzMGJjOGU3Yzc3NTc0ZmRjIiwidGFnIjoiIn0%3D; laravel_session=eyJpdiI6ImF5ZjcwZDFrTEl0K2hoVFZEYi83YUE9PSIsInZhbHVlIjoiejd2MHkzL3JnNHhxcHVPbEZkcUtGZW1aMkRia3Jpd2xyUE53VEhEWldsSjBxcHBEKzhzNjZKaExxaStGLysxeWlIdkpqcVE1TkVRMmROd3JoRHlIRjhsNW5HOCtQZ1pkU0lzaXZ2NkhwcVdhV2tLTmg3b2VzNXZPWDVzeGFnS3ciLCJtYWMiOiI0Njk5OGYxYWI0YzEwZjRhZTM4NDg3ZGIzOWJjZjkzOWRlMGUwYWU5MmI3ZjMwMmM0OGUyZGY5YWNlYmM3Yjg1IiwidGFnIjoiIn0%3D',\n",
    "    'Upgrade-Insecure-Requests': '1',\n",
    "    'Sec-Fetch-Dest': 'document',\n",
    "    'Sec-Fetch-Mode': 'navigate',\n",
    "    'Sec-Fetch-Site': 'same-origin',\n",
    "    'Sec-Fetch-User': '?1',\n",
    "}\n",
    "response = requests.get(link_lst[0], headers=headers)"
   ]
  },
  {
   "cell_type": "code",
   "execution_count": 73,
   "metadata": {},
   "outputs": [],
   "source": [
    "soup = BeautifulSoup(response.content)"
   ]
  },
  {
   "cell_type": "code",
   "execution_count": 34,
   "metadata": {},
   "outputs": [],
   "source": [
    "tbl = soup.find('table')"
   ]
  },
  {
   "cell_type": "code",
   "execution_count": 38,
   "metadata": {},
   "outputs": [],
   "source": [
    "data_frame = pd.read_html(str(tbl))[0]\n",
    "df = data_frame.transpose().reset_index(drop=True)\n",
    "df.columns = df.iloc[0]\n",
    "df.drop(df.index[0], inplace = True)\n"
   ]
  },
  {
   "cell_type": "code",
   "execution_count": 41,
   "metadata": {},
   "outputs": [
    {
     "data": {
      "text/plain": [
       "'CÔNG TY TNHH XUẤT NHẬP KHẨU FLASH VIỆT NAM'"
      ]
     },
     "execution_count": 41,
     "metadata": {},
     "output_type": "execute_result"
    }
   ],
   "source": [
    "df['Name'] = soup.find('h1').text"
   ]
  },
  {
   "cell_type": "code",
   "execution_count": 76,
   "metadata": {},
   "outputs": [
    {
     "data": {
      "text/plain": [
       "'<!doctype html><html lang=\"en\"><head>\\n<link rel=\"dns-prefetch\" href=\"//infocom.vn\">\\n<link rel=\"dns-prefetch\" href=\"//schema.org\",\"@type\":\"WebPage\",\"name\":\"CÔNG\">\\n<link rel=\"dns-prefetch\" href=\"//fonts.googleapis.com\">\\n<link rel=\"dns-prefetch\" href=\"//www.googletagmanager.com\">\\n<link rel=\"dns-prefetch\" href=\"//pagead2.googlesyndication.com\">\\n<link rel=\"dns-prefetch\" href=\"//koquangcao.com\">\\n<link rel=\"dns-prefetch\" href=\"//file.infocom.vn\">\\n<link rel=\"dns-prefetch\" href=\"//zalo.me\"><meta charset=\"utf-8\"><meta name=\"viewport\" content=\"width=device-width, initial-scale=1.0\"><link rel=\"apple-touch-icon\" sizes=\"180x180\" href=\"/apple-touch-icon.png\"><link rel=\"icon\" type=\"image/png\" sizes=\"32x32\" href=\"/favicon-32x32.png\"><link rel=\"icon\" type=\"image/png\" sizes=\"16x16\" href=\"/favicon-16x16.png\"><link rel=\"manifest\" href=\"/site.webmanifest\"><title>CÔNG TY TNHH XUẤT NHẬP KHẨU FLASH VIỆT NAM - Trang vàng thông tin doanh nghiệp</title><meta name=\"description\" content=\"CÔNG TY TNHH XUẤT NHẬP KHẨU FLASH VIỆT NAM MST: 3901334701. Hoạt động dịch vụ hỗ trợ kinh doanh khác còn lại chưa được phân vào đâu&lt;br&gt;Chi tiết: Xuất nhập khẩu các mặt hàng công ty kinh doanh (Điều 28 Luật Thương mại). Địa chỉ: Tổ 3, Ấp Phước Dân, Xã Phước Chỉ, Thị xã Trảng Bàng, Tỉnh Tây Ninh, Việt Nam\"><link rel=\"canonical\" href=\"https://infocom.vn/cong-ty-tnhh-xuat-nhap-khau-flash-viet-nam.html\"/><meta property=\"og:title\" content=\"CÔNG TY TNHH XUẤT NHẬP KHẨU FLASH VIỆT NAM\" /><meta property=\"og:description\" content=\"CÔNG TY TNHH XUẤT NHẬP KHẨU FLASH VIỆT NAM MST: 3901334701. Hoạt động dịch vụ hỗ trợ kinh doanh khác còn lại chưa được phân vào đâu&lt;br&gt;Chi tiết: Xuất nhập khẩu các mặt hàng công ty kinh doanh (Điều 28 Luật Thương mại). Địa chỉ: Tổ 3, Ấp Phước Dân, Xã Phước Chỉ, Thị xã Trảng Bàng, Tỉnh Tây Ninh, Việt Nam\" /><meta property=\"og:type\" content=\"articles\" /><meta property=\"og:url\" content=\"https://infocom.vn/cong-ty-tnhh-xuat-nhap-khau-flash-viet-nam.html\" /><meta name=\"twitter:title\" content=\"CÔNG TY TNHH XUẤT NHẬP KHẨU FLASH VIỆT NAM\" /><meta name=\"twitter:description\" content=\"CÔNG TY TNHH XUẤT NHẬP KHẨU FLASH VIỆT NAM MST: 3901334701. Hoạt động dịch vụ hỗ trợ kinh doanh khác còn lại chưa được phân vào đâu&lt;br&gt;Chi tiết: Xuất nhập khẩu các mặt hàng công ty kinh doanh (Điều 28 Luật Thương mại). Địa chỉ: Tổ 3, Ấp Phước Dân, Xã Phước Chỉ, Thị xã Trảng Bàng, Tỉnh Tây Ninh, Việt Nam\" /><script type=\"application/ld+json\">{\"@context\":\"https://schema.org\",\"@type\":\"WebPage\",\"name\":\"CÔNG TY TNHH XUẤT NHẬP KHẨU FLASH VIỆT NAM\",\"description\":\"CÔNG TY TNHH XUẤT NHẬP KHẨU FLASH VIỆT NAM MST: 3901334701. Hoạt động dịch vụ hỗ trợ kinh doanh khác còn lại chưa được phân vào đâu<br>Chi tiết: Xuất nhập khẩu các mặt hàng công ty kinh doanh (Điều 28 Luật Thương mại). Địa chỉ: Tổ 3, Ấp Phước Dân, Xã Phước Chỉ, Thị xã Trảng Bàng, Tỉnh Tây Ninh, Việt Nam\"}</script><link rel=\"stylesheet\" href=\"/themes/infocom/css/style.css \"><link rel=\"stylesheet\" href=\"/themes/infocom/css/menu.css\"><link href=\"https://fonts.googleapis.com/css2?family=Quicksand:wght@500&display=swap\" rel=\"stylesheet\"><script type=\"83d68d6c8cc2adf367a8e44f-text/javascript\">(function(w,d,s,l,i){w[l]=w[l]||[];w[l].push({\\'gtm.start\\': new Date().getTime(),event:\\'gtm.js\\'});var f=d.getElementsByTagName(s)[0], j=d.createElement(s),dl=l!=\\'dataLayer\\'?\\'&l=\\'+l:\\'\\';j.async=true;j.src= \\'https://www.googletagmanager.com/gtm.js?id=\\'+i+dl;f.parentNode.insertBefore(j,f); })(window,document,\\'script\\',\\'dataLayer\\',\\'GTM-WCCCTXR\\');</script><script async src=\"https://pagead2.googlesyndication.com/pagead/js/adsbygoogle.js?client=ca-pub-3907374303687435\" crossorigin=\"anonymous\" type=\"83d68d6c8cc2adf367a8e44f-text/javascript\"></script>\\n<style>.page_speed_1970408297{ display:none;visibility:hidden }</style>\\n</head><body><noscript><iframe src=\"https://www.googletagmanager.com/ns.html?id=GTM-WCCCTXR\"height=\"0\" width=\"0\" class=\"page_speed_1970408297\"></iframe></noscript><div class=\"top-header\"><div class=\"top-menu\"><div class=\"header\"><div class=\"container\"><div class=\"nav-menu\"><div class=\"logo\"><a href=\"https://infocom.vn\" title=\"Trang chủ\"><img src=\"https://infocom.vn/themes/infocom/images/logo.png\" width=\"275\" height=\"45\" class=\"img-logo\" alt=\"Logo\"></a></div><button type=\"button\" class=\"burger\" id=\"burger\"><span class=\"burger-line\"></span><span class=\"burger-line\"></span><span class=\"burger-line\"></span></button><span class=\"overlay\" id=\"overlay\"></span><div class=\"navbar\" id=\"navbar\"><div class=\"brand-mobileSub\"><a href=\"https://infocom.vn\" title=\"Trang chủ\"><img src=\"https://infocom.vn/themes/infocom/images/logo.png\" width=\"275\" height=\"45\" class=\"img-logo\" alt=\"Logo\"></a></div><ul class=\"menu\"><li class=\"menu-item\"><a href=\"https://infocom.vn\" title=\"Trang chủ\">Trang chủ</a></li><li class=\"menu-item\"><a href=\"https://infocom.vn/moi-thanh-lap\" title=\"Mới thành lập\">Mới thành lập</a></li><li class=\"menu-item\"><a href=\"https://infocom.vn/dang-ky-thay-doi\" title=\"Đăng ký thay đổi\">Đăng ký thay đổi</a></li><li class=\"menu-item\"><a href=\"https://infocom.vn/thong-bao-thay-doi\" title=\"Thông báo thay đổi\">Thông báo thay đổi</a></li></ul></div></div></div></div></div><div class=\"about-home\"><div class=\"container\"><div class=\"content-top-header text-center\"><p class=\"preview-main-header\">Tra cứu mã số thuế, tên công ty, doanh nghiệp hồ sơ chi tiết</p><form action=\"https://infocom.vn/tim-kiem\" method=\"GET\" class=\"box-search-header\"><div class=\"input-group\"><input class=\"form-control\" required name=\"keyword\" type=\"search\" placeholder=\"Nhập mã số thuế hoặc tên công ty, doanh nghiệp\"><div class=\"input-group-append\"><button type=\"submit\" class=\"btn-search\"><i class=\"search-icon\"></i></button></div></div></form></div></div></div></div><div class=\"container block\"><div class=\"row\"><div class=\"left-main-content\"><div class=\"box-news-right\"><a title=\"Youtube premium\" target=\"_blank\" href=\"https://koquangcao.com/\" rel=\"nofollow\"><img src=\"https://infocom.vn/themes/infocom/images/youtube-premium.jpg\" class=\"img-fluid mb-1\" alt=\"Mua youtube premium\"/></a><nav aria-label=\"breadcrumb\"><ol class=\"breadcrumb\"><li class=\"breadcrumb-item\"><a href=\"/\">Trang chủ</a></li><li class=\"breadcrumb-item\"><a href=\"https://infocom.vn/tinh-tay-ninh\">Tỉnh Tây Ninh</a></li><li class=\"breadcrumb-item\"><a href=\"https://infocom.vn/tinh-tay-ninh/thi-xa-trang-bang\">Thị Xã Trảng Bàng</a></li><li class=\"breadcrumb-item\"><a href=\"https://infocom.vn/tinh-tay-ninh/thi-xa-trang-bang/xa-phuoc-chi\">Xã Phước Chỉ</a></li><li class=\"breadcrumb-item active\" aria-current=\"page\">CÔNG TY TNHH XUẤT NHẬP KHẨU FLASH VIỆT NAM</li></ol></nav><h1 class=\"h1 mt-0 mb-1\">CÔNG TY TNHH XUẤT NHẬP KHẨU FLASH VIỆT NAM</h1><p class=\"preivew-news-home\"><span>Cập nhật lúc:</span><span class=\"text-primary\">2023-02-22 13:09:35</span><span class=\"fw-bold line\"><a target=\"_blank\" href=\"https://file.infocom.vn/infocom/3901334701-20230222-new.pdf\" title=\"Download file PDF\">Download file hồ sơ gốc</a></span></p><table class=\"table-info mb-1\"><tbody><tr><td>☷ Tên quốc tế:</td><td>FLASH VIET NAM IMPORT EXPORT COMPANY LIMITED</td></tr><tr><td>☷ Tên viết tắt:</td><td></td></tr><tr><td>Mã số thuế:</td><td>3901334701</td></tr><tr><td>Đại diện pháp luật:</td><td><strong>NGUYỄN DUY LUÂN</strong> - Giới tính: Nam</td></tr><tr><td>Điện thoại:</td><td>0939481482</td></tr><tr><td>Địa chỉ trụ sở chính:</td><td>Tổ 3, Ấp Phước Dân, Xã Phước Chỉ, Thị xã Trảng Bàng, Tỉnh Tây Ninh, Việt Nam</td></tr><tr><td>Ngày thành lập:</td><td>2023-02-22 00:00:00</td></tr><tr><td>Tình trạng hoạt động:</td><td></td></tr><tr><td>Loại hình pháp lý:</td><td></td></tr></tbody></table><div class=\"business-main\"> Ngành nghề hoạt động chính: <p>Hoạt động dịch vụ hỗ trợ kinh doanh khác còn lại chưa được phân vào đâu<br>Chi tiết: Xuất nhập khẩu các mặt hàng công ty kinh doanh (Điều 28 Luật Thương mại)</p></div><table width=\"100%\"><tbody><tr><th width=\"20%\"> Mã ngành, nghề kinh doanh </th><th width=\"*\">Tên ngành, nghề kinh doanh</th></tr><tr><td>0161</td><td><p>Hoạt động dịch vụ trồng trọt</p></td></tr><tr><td>0162</td><td><p>Hoạt động dịch vụ chăn nuôi</p></td></tr><tr><td>0163</td><td><p>Hoạt động dịch vụ sau thu hoạch<br>Chi tiết: Làm sạch, phân loại, sơ chế, phơi sấy hạt tiêu, cà phê, các loại hạt;</p></td></tr><tr><td>0164</td><td><p>Xử lý hạt giống để nhân giống</p></td></tr><tr><td>0321</td><td><p>Nuôi trồng thuỷ sản biển</p></td></tr><tr><td>0322</td><td><p>Nuôi trồng thuỷ sản nội địa</p></td></tr><tr><td>1010</td><td><p>Chế biến, bảo quản thịt và các sản phẩm từ thịt</p></td></tr><tr><td>1020</td><td><p>Chế biến, bảo quản thuỷ sản và các sản phẩm từ thuỷ sản</p></td></tr><tr><td>1030</td><td><p>Chế biến và bảo quản rau quả</p></td></tr><tr><td>1061</td><td><p>Xay xát và sản xuất bột thô</p></td></tr><tr><td>1062</td><td><p>Sản xuất tinh bột và các sản phẩm từ tinh bột</p></td></tr><tr><td>1071</td><td><p>Sản xuất các loại bánh từ bột</p></td></tr><tr><td>1080</td><td><p>Sản xuất thức ăn gia súc, gia cầm và thuỷ sản</p></td></tr><tr><td>1104</td><td><p>Sản xuất đồ uống không cồn, nước khoáng<br>Chi tiết: Sản xuất nước ngọt</p></td></tr><tr><td>1420</td><td><p>Sản xuất sản phẩm từ da lông thú</p></td></tr><tr><td>1430</td><td><p>Sản xuất trang phục dệt kim, đan móc</p></td></tr><tr><td>1512</td><td><p>Sản xuất vali, túi xách và các loại tương tự, sản xuất yên đệm</p></td></tr><tr><td>1520</td><td><p>Sản xuất giày dép</p></td></tr><tr><td>1621</td><td><p>Sản xuất gỗ dán, gỗ lạng, ván ép và ván mỏng khác</p></td></tr><tr><td>1623</td><td><p>Sản xuất bao bì bằng gỗ</p></td></tr><tr><td>2220</td><td><p>Sản xuất sản phẩm từ plastic<br>Chi tiết: Sản xuất, gia công sản phẩm da giả</p></td></tr><tr><td>3290</td><td><p>Sản xuất khác chưa được phân vào đâu</p></td></tr><tr><td>4610</td><td><p>Đại lý, môi giới, đấu giá<br>Chi tiết: Đại lý bán hàng hóa Môi giới mua bán hàng hóa (Trừ hoạt động đấu giá hàng hóa, môi giới bảo hiểm, chứng khoán) </p></td></tr><tr><td>4620</td><td><p>Bán buôn nông, lâm sản nguyên liệu (trừ gỗ, tre, nứa) và động vật sống<br>(Trừ loại Nhà nước cấm)</p></td></tr><tr><td>4631</td><td><p>Bán buôn gạo</p></td></tr><tr><td>4632</td><td><p>Bán buôn thực phẩm</p></td></tr><tr><td>4633</td><td><p>Bán buôn đồ uống<br>( Trừ kinh doanh dịch vụ quán bar, karaoke, vũ trường)</p></td></tr><tr><td>4641</td><td><p>Bán buôn vải, hàng may sẵn, giày dép</p></td></tr><tr><td>4649</td><td><p>Bán buôn đồ dùng khác cho gia đình<br>(Trừ bán buôn dược phẩm)</p></td></tr><tr><td>4653</td><td><p>Bán buôn máy móc, thiết bị và phụ tùng máy nông nghiệp</p></td></tr><tr><td>4659</td><td><p>Bán buôn máy móc, thiết bị và phụ tùng máy khác</p></td></tr><tr><td>4663</td><td><p>Bán buôn vật liệu, thiết bị lắp đặt khác trong xây dựng</p></td></tr><tr><td>4669</td><td><p>Bán buôn chuyên doanh khác chưa được phân vào đâu<br>Chi tiết: Bán buôn phân bón(Trừ loại nhà nước cấm) Bán buôn hóa chất khác (trừ loại sử dụng trong nông nghiệp) Bán buôn phế liệu, phế thải kim loại, phi kim loại </p></td></tr><tr><td>4690</td><td><p>Bán buôn tổng hợp<br>(Trừ loại nhà nước cấm)</p></td></tr><tr><td>4711</td><td><p>Bán lẻ lương thực, thực phẩm, đồ uống, thuốc lá, thuốc lào chiếm tỷ trọng lớn trong các cửa hàng kinh doanh tổng hợp<br>chi tiết: Mua bán lương thực, hàng thực phẩm công nghệ (thực hiện theo Quyết định 64/2009/QĐ-UBND ngày 31/07/2009 và Quyết định 79/2009/QĐ-UBND ngày 17/10/2009 của Ủy Ban nhân dân TP. Hồ Chí Minh về phê duyệt quy hoạch kinh doanh nông sản, thực phẩm trên địa bàn TP. Hồ Chí Minh), đồ uống, rượu bia, thuốc lá điều sản xuất trong nước, thuốc lào.</p></td></tr><tr><td>4719</td><td><p>Bán lẻ khác trong các cửa hàng kinh doanh tổng hợp<br>Chi tiết: Bán lẻ trong siêu thị, trung tâm thương mại</p></td></tr><tr><td>4721</td><td><p>Bán lẻ lương thực trong các cửa hàng chuyên doanh</p></td></tr><tr><td>4722</td><td><p>Bán lẻ thực phẩm trong các cửa hàng chuyên doanh<br>chi tiết: Bán lẻ thực phẩm, thịt và các sản phẩm thịt; thủy sản, rau, quả; đường, sữa và các sản phẩm sữa, bánh, mứt, kẹo và các sản phẩm chế biến từ ngũ cốc, bột, tinh bột trong các cửa hàng chuyên doanh; cà phê bột, cà phê hòa tan, chè, trà, các loại (thực hiện theo đúng quyết định số 64/2009/QĐ-UBND ngày 31/7/2009 và quyết định số 79/2009/QĐ-UBND ngày 17/10/2009 của ủy ban nhân dân Thành phố Hồ Chí Minh).</p></td></tr><tr><td>4723</td><td><p>Bán lẻ đồ uống trong các cửa hàng chuyên doanh</p></td></tr><tr><td>4773</td><td><p>Bán lẻ hàng hóa khác mới trong các cửa hàng chuyên doanh<br>(Trừ bán lẻ vàng, súng, đạn, tem và tiền kim khí)</p></td></tr><tr><td>4791</td><td><p>Bán lẻ theo yêu cầu đặt hàng qua bưu điện hoặc internet<br>(trừ bán lẻ bình gas, súng, đạn loại dùng đi săn hoặc thể thao, tiền kim khí và mua bán vàng miếng; thực hiện theo Quyết định 64/2009/QĐ-UBND ngày 31/7/2009 của Ủy ban nhân dân Thành phố Hồ Chí Minh và Quyết định 79/2009/QĐ-UBND ngày 17/10/2009 của Ủy ban nhân dân Thành phố Hồ Chí Minh về phê duyệt Quy hoạch nông sản trên địa bàn Thành phố Hồ Chí Minh) (trừ bán lẻ thuốc trừ sâu và hóa chất và phế liệu, phế thải kim loại, phi kim loại tại trụ sở) (trừ kinh doanh khí dầu mỏ hóa lỏng LPG và dầu nhớt cặn)</p></td></tr><tr><td>4912</td><td><p>Vận tải hàng hóa đường sắt<br>Chi tiết: Kinh doanh vận tải hàng hóa bằng đường sắt</p></td></tr><tr><td>4933</td><td><p>Vận tải hàng hóa bằng đường bộ<br>Chi tiết: Kinh doanh vận tải hàng hóa bằng xe ô tô</p></td></tr><tr><td>5012</td><td><p>Vận tải hàng hóa ven biển và viễn dương</p></td></tr><tr><td>5022</td><td><p>Vận tải hàng hóa đường thuỷ nội địa</p></td></tr><tr><td>5210</td><td><p>Kho bãi và lưu giữ hàng hóa</p></td></tr><tr><td>5224</td><td><p>Bốc xếp hàng hóa</p></td></tr><tr><td>5225</td><td><p>Hoạt động dịch vụ hỗ trợ trực tiếp cho vận tải đường bộ</p></td></tr><tr><td>5229</td><td><p>Hoạt động dịch vụ hỗ trợ khác liên quan đến vận tải<br>(trừ tổ chức các hoạt động vận tải đường hàng không và hoa tiêu)</p></td></tr><tr><td>5510</td><td><p>Dịch vụ lưu trú ngắn ngày<br>Chi tiết: Kinh doanh dịch vụ lưu trú </p></td></tr><tr><td>5610</td><td><p>Nhà hàng và các dịch vụ ăn uống phục vụ lưu động</p></td></tr><tr><td>7710</td><td><p>Cho thuê xe có động cơ<br>Chi tiết: Cho thuê xe ô tô; cho thuê xe có động cơ khác</p></td></tr><tr><td>7729</td><td><p>Cho thuê đồ dùng cá nhân và gia đình khác</p></td></tr><tr><td>8299</td><td><p>Hoạt động dịch vụ hỗ trợ kinh doanh khác còn lại chưa được phân vào đâu<br>Chi tiết: Xuất nhập khẩu các mặt hàng công ty kinh doanh</p></td></tr></tbody></table><a title=\"Youtube premium\" target=\"_blank\" href=\"https://koquangcao.com/\" rel=\"nofollow\"><img src=\"https://infocom.vn/themes/infocom/images/mua-youtube-premium.jpg\" class=\"img-fluid mt-2\" alt=\"Mua youtube premium\"/></a></div></div><div class=\"right-main-content\"><div class=\"social-cat-box-left\"><h4 class=\"title-cat-box-left text-primary text-uppercase\"> Phường xã </h4><div class=\"content-social-box-left\"><div class=\"grid-gap-social-left\"><a href=\"https://infocom.vn/tinh-tay-ninh/thi-xa-trang-bang/phuong-an-hoa\" title=\"P. An Hòa\"> P. An Hòa </a><a href=\"https://infocom.vn/tinh-tay-ninh/thi-xa-trang-bang/phuong-trang-bang\" title=\"P. Trảng Bàng\"> P. Trảng Bàng </a><a href=\"https://infocom.vn/tinh-tay-ninh/thi-xa-trang-bang/phuong-loc-hung\" title=\"P. Lộc Hưng\"> P. Lộc Hưng </a><a href=\"https://infocom.vn/tinh-tay-ninh/thi-xa-trang-bang/phuong-an-tinh\" title=\"P. An Tịnh\"> P. An Tịnh </a><a href=\"https://infocom.vn/tinh-tay-ninh/thi-xa-trang-bang/xa-don-thuan\" title=\"Xã Đôn Thuận\"> Xã Đôn Thuận </a><a href=\"https://infocom.vn/tinh-tay-ninh/thi-xa-trang-bang/phuong-gia-loc\" title=\"P. Gia Lộc\"> P. Gia Lộc </a><a href=\"https://infocom.vn/tinh-tay-ninh/thi-xa-trang-bang/xa-phuoc-chi\" title=\"Xã Phước Chỉ\"> Xã Phước Chỉ </a><a href=\"https://infocom.vn/tinh-tay-ninh/thi-xa-trang-bang/thi-tran-trang-bang\" title=\"TT. Trảng Bàng\"> TT. Trảng Bàng </a><a href=\"https://infocom.vn/tinh-tay-ninh/thi-xa-trang-bang/xa-hung-thuan\" title=\"Xã Hưng Thuận\"> Xã Hưng Thuận </a><a href=\"https://infocom.vn/tinh-tay-ninh/thi-xa-trang-bang/xa-an-tinh\" title=\"Xã An Tịnh\"> Xã An Tịnh </a><a href=\"https://infocom.vn/tinh-tay-ninh/thi-xa-trang-bang/xa-phuoc-binh\" title=\"Xã Phước Bình\"> Xã Phước Bình </a><a href=\"https://infocom.vn/tinh-tay-ninh/thi-xa-trang-bang/phuong-gia-binh\" title=\"P. Gia Bình\"> P. Gia Bình </a><a href=\"https://infocom.vn/tinh-tay-ninh/thi-xa-trang-bang/xa-loc-hung\" title=\"Xã Lộc Hưng\"> Xã Lộc Hưng </a></div></div></div><div class=\"news-cat-hot\"><h2 class=\"title-news-cat-hot\">Thông tin liên hệ</h2><div class=\"content-news-cat-hot\">Thông tin không chính xác hoặc cần thay đổi, phí <strong class=\"text-danger\">20k/lần sửa</strong> liên hệ Zalo: <a href=\"https://zalo.me/0588001001\"><strong>0588 001 001</strong></a></div></div></div></div></div><footer class=\"mt-2\"><div class=\"container\"><div class=\"row\"><div class=\"box-about-footer\"><h4 class=\"title-about-footer\">Infocom.vn</h4><p>Trang tra cứu thông tin công ty doanh nghiệp đầy đủ nhất</p><p>Hỗ trợ, cung cấp các giải pháp công nghệ thông tin cho tổ chức, doanh nghiệp</p></div><div class=\"box-menu-footer\"><h4 class=\"menu-footer\">Danh mục</h4><ul class=\"ul-menu-footer\"><li class=\"list-menu-footer\"><a href=\"https://infocom.vn\" title=\"Trang chủ\">Trang chủ</a></li><li class=\"list-menu-footer\"><a href=\"https://infocom.vn/moi-thanh-lap\" title=\"Mới thành lập\">Mới thành lập</a></li><li class=\"list-menu-footer\"><a href=\"https://infocom.vn/gioi-thieu\" title=\"Giới thiệu\">Giới thiệu</a></li><li class=\"list-menu-footer\"><a href=\"https://infocom.vn/thong-bao-thay-doi\" title=\"Thông báo thay đổi\">Thông báo thay đổi</a></li></ul></div></div></div></footer><div class=\"copy-right\"><div class=\"container\"><span>© Copyright 2022 by Infocom.vn</div></div><script src=\"https://infocom.vn/themes/infocom/vendor/jquery/jquery-3.6.0.min.js\" type=\"83d68d6c8cc2adf367a8e44f-text/javascript\"></script><script src=\"https://infocom.vn/themes/infocom/vendor/menu/menu.js\" type=\"83d68d6c8cc2adf367a8e44f-text/javascript\"></script><script type=\"83d68d6c8cc2adf367a8e44f-text/javascript\"> $(document).ready(function(){ $(\"table\").wrap(\\'<div class=\"table-responsive\"></div>\\').addClass(\"table table-bordered table-striped\"); $(\"td:contains(\\'8299\\')\").append(\\' (Chính)\\').closest(\\'tr\\').addClass(\\'fw-bold\\'); $(\".grid-gap-social-left a\").each(function() { let href = $(this).attr(\"href\"); if(href.indexOf(\"xa-phuoc-chi\") != -1){ $(this).addClass(\"is-active\"); return false; } }); }); </script><script type=\"83d68d6c8cc2adf367a8e44f-text/javascript\">let i = window.location.pathname;i = i.replace(/\\\\/$/, \"\");i = decodeURIComponent(i);$(\"ul.menu li a\").each(function() {let href = $(this).attr(\"href\");if(href.indexOf(i) != -1){$(this).closest(\"li\").addClass(\"is-active\");return false;}});$(\".grid-gap-social-left a\").each(function() {if(i){let href = $(this).attr(\"href\");if(href.indexOf(i) != -1){$(this).addClass(\"is-active\");return false;}}});</script><script src=\"/cdn-cgi/scripts/7d0fa10a/cloudflare-static/rocket-loader.min.js\" data-cf-settings=\"83d68d6c8cc2adf367a8e44f-|49\" defer=\"\"></script></body></html>'"
      ]
     },
     "execution_count": 76,
     "metadata": {},
     "output_type": "execute_result"
    }
   ],
   "source": []
  }
 ],
 "metadata": {
  "kernelspec": {
   "display_name": "base",
   "language": "python",
   "name": "python3"
  },
  "language_info": {
   "codemirror_mode": {
    "name": "ipython",
    "version": 3
   },
   "file_extension": ".py",
   "mimetype": "text/x-python",
   "name": "python",
   "nbconvert_exporter": "python",
   "pygments_lexer": "ipython3",
   "version": "3.9.15"
  },
  "orig_nbformat": 4,
  "vscode": {
   "interpreter": {
    "hash": "82d88deb2624a75a477db50e3fff563db6e15d2d5778e2d5f208d37d84f471e2"
   }
  }
 },
 "nbformat": 4,
 "nbformat_minor": 2
}
