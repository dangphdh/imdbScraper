{
 "cells": [
  {
   "cell_type": "code",
   "execution_count": 33,
   "id": "595940e4",
   "metadata": {},
   "outputs": [],
   "source": [
    "import requests\n",
    "import json\n",
    "import httpx\n",
    "import cloudscraper\n",
    "from bs4 import BeautifulSoup\n",
    "import pandas as pd\n",
    "from lxml import html\n",
    "from latest_user_agents import get_latest_user_agents, get_random_user_agent\n",
    "import time "
   ]
  },
  {
   "cell_type": "code",
   "execution_count": 9,
   "id": "4dea6132",
   "metadata": {},
   "outputs": [],
   "source": [
    "response = requests.get('https://www.imdb.com/chart/top')"
   ]
  },
  {
   "cell_type": "code",
   "execution_count": 10,
   "id": "31a09013",
   "metadata": {},
   "outputs": [],
   "source": [
    "soup = BeautifulSoup(response.content, 'html.parser')"
   ]
  },
  {
   "cell_type": "code",
   "execution_count": 11,
   "id": "4793589e",
   "metadata": {},
   "outputs": [],
   "source": [
    "movies = soup.select('td.titleColumn')\n",
    "crew = [a.attrs.get('title') for a in soup.select('td.titleColumn a')]\n",
    "ratings = [b.attrs.get('data-value') for b in soup.select('td.posterColumn span[name=ir]')]"
   ]
  },
  {
   "cell_type": "code",
   "execution_count": 25,
   "id": "dad07d94",
   "metadata": {},
   "outputs": [
    {
     "data": {
      "text/plain": [
       "'/title/tt0111161/'"
      ]
     },
     "execution_count": 25,
     "metadata": {},
     "output_type": "execute_result"
    }
   ],
   "source": [
    "movies[0].a['href']"
   ]
  },
  {
   "cell_type": "code",
   "execution_count": 12,
   "id": "c8e0f636",
   "metadata": {},
   "outputs": [],
   "source": [
    "headers = {'User-Agent': get_random_user_agent()}"
   ]
  },
  {
   "cell_type": "code",
   "execution_count": 13,
   "id": "77f721ec",
   "metadata": {},
   "outputs": [],
   "source": [
    "response2 = requests.get('https://www.imdb.com' + movies[0].a['href'],headers=headers)"
   ]
  },
  {
   "cell_type": "code",
   "execution_count": 14,
   "id": "f8a60c9d",
   "metadata": {},
   "outputs": [],
   "source": [
    "soup = BeautifulSoup(response2.content, 'html.parser')"
   ]
  },
  {
   "cell_type": "code",
   "execution_count": 15,
   "id": "765061b1",
   "metadata": {},
   "outputs": [
    {
     "data": {
      "text/plain": [
       "'Frank Darabont'"
      ]
     },
     "execution_count": 15,
     "metadata": {},
     "output_type": "execute_result"
    }
   ],
   "source": [
    "soup.select('ul.ipc-metadata-list:nth-child(3) > li:nth-child(1)')[0].find(\"ul\").get_text()"
   ]
  },
  {
   "cell_type": "code",
   "execution_count": 30,
   "id": "d01e380d",
   "metadata": {},
   "outputs": [],
   "source": [
    "data = soup.find('script',{\"type\" : \"application/ld+json\"})"
   ]
  },
  {
   "cell_type": "code",
   "execution_count": 35,
   "id": "18d5489d",
   "metadata": {},
   "outputs": [
    {
     "data": {
      "text/plain": [
       "{'@context': 'https://schema.org',\n",
       " '@type': 'Movie',\n",
       " 'url': '/title/tt0111161/',\n",
       " 'name': 'The Shawshank Redemption',\n",
       " 'alternateName': 'Nhà tù Shawshank',\n",
       " 'image': 'https://m.media-amazon.com/images/M/MV5BMDFkYTc0MGEtZmNhMC00ZDIzLWFmNTEtODM1ZmRlYWMwMWFmXkEyXkFqcGdeQXVyMTMxODk2OTU@._V1_.jpg',\n",
       " 'description': 'Two imprisoned men bond over a number of years, finding solace and eventual redemption through acts of common decency.',\n",
       " 'review': {'@type': 'Review',\n",
       "  'itemReviewed': {'@type': 'CreativeWork', 'url': '/title/tt0111161/'},\n",
       "  'author': {'@type': 'Person', 'name': 'weswalker'},\n",
       "  'dateCreated': '2002-08-27',\n",
       "  'inLanguage': 'English',\n",
       "  'name': 'Shawshank Redeems Hollywood',\n",
       "  'reviewBody': 'Can Hollywood, usually creating things for entertainment purposes only, create art?  To create something of this nature, a director must approach it in a most meticulous manner, due to the delicacy of the process.  Such a daunting task requires an extremely capable artist with an undeniable managerial capacity and an acutely developed awareness of each element of art in their films, the most prominent; music, visuals, script, and acting. These elements, each equally important, must succeed independently, yet still form a harmonious union, because this mixture determines the fate of the artist&apos;s opus.  Though already well known amongst his colleagues for his notable skills at writing and directing, Frank Darabont emerges with his feature film directorial debut, The Shawshank Redemption.  Proving himself already a master of the craft, Darabont managed to create one of the most recognizable independent releases in the history of Hollywood.  The Shawshank Redemption defines a genre, defies the odds, compels the emotions, and brings an era of artistically influential films back to Hollywood.\\n\\nThe story begins with the trial of a young banker, Andy Dufrense, victimized by circumstantial evidence, resulting in a conviction for the murder of his wife and her lover.  After a quick conviction, Andy finds himself serving a life sentence at Shawshank prison, with no hope of parole.  He exists in this prison only in appearance, keeping his mind free from the drab walls around him.  His ability to do this results in the gaining of respect from his fellow inmates, but most of all from Ellis Redding.  Ellis, commonly referred to as Red, finds gainful use of his entrepreneurial spirit within the drab walls of Shawshank by dealing in contraband and commodities rare to the confines of prison.  Andy&apos;s demeanor and undeniable sense of hope causes Red to take a deeper look at himself, and the world around him.  Andy proves to Red and the other inmates that in the conventional walls of Shawshank prison convention will find no home in his lifestyle.\\n\\nBy creating the film&apos;s firm foundation, the meticulously chiseled screenplay paved the way for this film&apos;s success.  Frank Darabont outdoes himself with the phenomenal adaptation of Stephen King&apos;s equally noteworthy novella, Rita Hayworth and Shawshank Redemption.  In this novella, King demonstrates that he can break free from the genre he dominates and still create a marvelous piece of modern literature.  Though the film mirrors the novella in many ways, Darabont illustrates a focused objective of improving upon the areas where the novella came up short, resulting in one of the best book to film transitions ever.\\n\\nWhile maintaining some of the poetic and moving dialogue of the novella, Darabont also proves that a film&apos;s score can generate a great deal of emotional response from its audience, as dialogue does.  He employs the cunning Thomas Newman, son of the legendary Hollywood composer, Alfred Newman.  Darabont shows recognition for the film&apos;s needs by employing Newman, who makes the gentle piano chords whisper softly to the viewer, as if a part of the scripted dialogue.  Newman lends himself to individualism and tends to drive more towards the unique in the realm of score composition.  His effort in Shawshank did not go unnoticed, as his score received an Oscar nomination in 1995.  While unique and independent, Newman&apos;s score never once intrudes on your concentration or distracts from the film.\\n\\nWith work from vast array of talented scene designers, costume designers, composers, cinematographers, and various other Hollywood artists, the cast of The Shawshank Redemption had a strong foundation to work with.  The marvelous cast of this film will dazzle you with some of the most convincing performances you will witness in a film.  While both Tim Robbins and Morgan Freeman shine as Andy and Red, respectively, the true spectacle of acting lies within the plethora of amazing supporting actors who easily disappear into their roles.  Most noticeable of these, the veteran film star James Whitmore, who portrays the elderly Brooks Hatlen.  Brooks, a man incarcerated for an unmentioned crime for so long that he finds himself attached to the Shawshank and the daily life he has lead.  Each of these actors show a true dedication to their art, and a focused purpose in their motivations, creating a convincing setting that never once caters to anything unbelievable.\\n\\nWith all of the aesthetic touches and attention to cinematic detail, the most beautiful part of the film lies within its thematic material, such as its focus on the human desires for the most abstract concepts, like hope and freedom.  These themes, which concern things the human spirit undoubtedly yearns for, seem so intricately woven into the plot that it easily draws its audience in to its story.  Though full of hardened criminals, your heart will go out to these men as they display the most basic of human emotions, and deliver some of the most quotable lines in a film to date.  Like a great novel, this film manages to succeed at greater things than simply entertaining an audience.  Darabont tells his story most masterfully, illustrating principles and inspiring his audience to think.  He leaves us a poignant film with a powerful message of hope, and redemption, something we all seek.\\n\\nThis film manages to redeem Hollywood in the eyes of people who feared it long lost in a dark sea of clichés and predictability.  Darabont shows us that artists still work in the Hollywood studios and production facilities. These artists show their capability to produce art; real art that inspires you to look at the deeper aspects of life and the world around you.  The Shawshank Redemption delivers much-needed breath of fresh air for anyone who realizes the capability of film.  It proves that masters of the craft still live on this earth, and still bless us with timeless masterpieces that we will never forget.',\n",
       "  'reviewRating': {'@type': 'Rating',\n",
       "   'worstRating': 1,\n",
       "   'bestRating': 10,\n",
       "   'ratingValue': 10}},\n",
       " 'aggregateRating': {'@type': 'AggregateRating',\n",
       "  'ratingCount': 2673417,\n",
       "  'bestRating': 10,\n",
       "  'worstRating': 1,\n",
       "  'ratingValue': 9.3},\n",
       " 'contentRating': 'C16',\n",
       " 'genre': ['Drama'],\n",
       " 'datePublished': '1994-10-14',\n",
       " 'keywords': 'prison,based on the works of stephen king,escape from prison,friendship between men,voice over narration',\n",
       " 'trailer': {'@type': 'VideoObject',\n",
       "  'name': 'Official Trailer',\n",
       "  'embedUrl': 'https://www.imdb.com/video/imdb/vi3877612057',\n",
       "  'thumbnail': {'@type': 'ImageObject',\n",
       "   'contentUrl': 'https://m.media-amazon.com/images/M/MV5BNjQ2NDA3MDcxMF5BMl5BanBnXkFtZTgwMjE5NTU0NzE@._V1_.jpg'},\n",
       "  'thumbnailUrl': 'https://m.media-amazon.com/images/M/MV5BNjQ2NDA3MDcxMF5BMl5BanBnXkFtZTgwMjE5NTU0NzE@._V1_.jpg',\n",
       "  'url': 'https://www.imdb.com/video/vi3877612057/',\n",
       "  'description': 'Two imprisoned men bond over a number of years, finding solace and eventual redemption through acts of common decency.\\r\\n',\n",
       "  'duration': 'PT2M11S',\n",
       "  'uploadDate': '2014-03-05T14:13:19Z'},\n",
       " 'actor': [{'@type': 'Person',\n",
       "   'url': '/name/nm0000209/',\n",
       "   'name': 'Tim Robbins'},\n",
       "  {'@type': 'Person', 'url': '/name/nm0000151/', 'name': 'Morgan Freeman'},\n",
       "  {'@type': 'Person', 'url': '/name/nm0348409/', 'name': 'Bob Gunton'}],\n",
       " 'director': [{'@type': 'Person',\n",
       "   'url': '/name/nm0001104/',\n",
       "   'name': 'Frank Darabont'}],\n",
       " 'creator': [{'@type': 'Organization', 'url': '/company/co0040620/'},\n",
       "  {'@type': 'Person', 'url': '/name/nm0000175/', 'name': 'Stephen King'},\n",
       "  {'@type': 'Person', 'url': '/name/nm0001104/', 'name': 'Frank Darabont'}],\n",
       " 'duration': 'PT2H22M'}"
      ]
     },
     "execution_count": 35,
     "metadata": {},
     "output_type": "execute_result"
    }
   ],
   "source": [
    "json.loads(data.get_text())"
   ]
  },
  {
   "cell_type": "code",
   "execution_count": null,
   "id": "11780215",
   "metadata": {},
   "outputs": [],
   "source": [
    "def get(self, url):\n",
    "        \"\"\"\n",
    "         @description:- helps to get a file's complete info (used by get_by_name() & get_by_id() )\n",
    "         @parameter:- <str:url>, url of the file/movie/tv-series.\n",
    "         @returns:- File/movie/TV info as JSON string.\n",
    "        \"\"\"\n",
    "        try:\n",
    "            response = self.session.get(url)\n",
    "            result = response.html.xpath(\"//script[@type='application/ld+json']\")[0].text\n",
    "            result = ''.join(result.splitlines())  # removing newlines\n",
    "            result = f\"\"\"{result}\"\"\"\n",
    "            # print(result)\n",
    "        except IndexError:\n",
    "            return self.NA\n",
    "        try:\n",
    "            # converting json string into dict\n",
    "            result = json.loads(result)\n",
    "        except json.decoder.JSONDecodeError as e:\n",
    "            # sometimes json is invalid as 'description' contains inverted commas or other html escape chars\n",
    "            try:\n",
    "                to_parse = ImdbParser(result)\n",
    "                # removing trailer & description schema from json string\n",
    "                parsed = to_parse.remove_trailer\n",
    "                parsed = to_parse.remove_description\n",
    "                # print(parsed)\n",
    "                result = json.loads(parsed)\n",
    "            except json.decoder.JSONDecodeError as e:\n",
    "                try:\n",
    "                    # removing reviewBody from json string\n",
    "                    parsed = to_parse.remove_review_body\n",
    "                    result = json.loads(parsed)\n",
    "                except json.decoder.JSONDecodeError as e:\n",
    "                    # invalid char(s) is/are not in description/trailer/reviewBody schema\n",
    "                    return self.NA\n",
    "\n",
    "        output = {\n",
    "            \"type\": result.get('@type'),\n",
    "            \"name\": result.get('name'),\n",
    "            \"url\": self.baseURL + result.get('url'),\n",
    "            \"poster\": result.get('image'),\n",
    "            \"description\": result.get('description'),\n",
    "            \"review\": {\n",
    "                \"author\": result.get(\"review\", {'author': {'name': None}}).get('author').get('name'),\n",
    "                \"dateCreated\": result.get(\"review\", {\"dateCreated\": None}).get(\"dateCreated\"),\n",
    "                \"inLanguage\": result.get(\"review\", {\"inLanguage\": None}).get(\"inLanguage\"),\n",
    "                \"heading\": result.get(\"review\", {\"name\": None}).get(\"name\"),\n",
    "                \"reviewBody\": result.get(\"review\", {\"reviewBody\": None}).get(\"reviewBody\"),\n",
    "                \"reviewRating\": {\n",
    "                    \"worstRating\": result.get(\"review\", {\"reviewRating\": {\"worstRating\": None}})\n",
    "                        .get(\"reviewRating\",{\"worstRating\": None}).get(\"worstRating\"),\n",
    "                    \"bestRating\": result.get(\"review\", {\"reviewRating\": {\"bestRating\": None}})\n",
    "                        .get(\"reviewRating\",{\"bestRating\": None}).get(\"bestRating\"),\n",
    "                    \"ratingValue\": result.get(\"review\", {\"reviewRating\": {\"ratingValue\": None}})\n",
    "                        .get(\"reviewRating\",{\"ratingValue\": None}).get(\"ratingValue\"),\n",
    "                },\n",
    "            },\n",
    "            \"rating\": {\n",
    "                \"ratingCount\": result.get(\"aggregateRating\", {\"ratingCount\": None}).get(\"ratingCount\"),\n",
    "                \"bestRating\": result.get(\"aggregateRating\", {\"bestRating\": None}).get(\"bestRating\"),\n",
    "                \"worstRating\": result.get(\"aggregateRating\", {\"worstRating\": None}).get(\"worstRating\"),\n",
    "                \"ratingValue\": result.get(\"aggregateRating\", {\"ratingValue\": None}).get(\"ratingValue\"),\n",
    "            },\n",
    "            \"contentRating\": result.get(\"contentRating\"),\n",
    "            \"genre\": result.get(\"genre\"),\n",
    "            \"datePublished\": result.get(\"datePublished\"),\n",
    "            \"keywords\": result.get(\"keywords\"),\n",
    "            \"duration\": result.get(\"duration\"),\n",
    "            \"actor\": [\n",
    "                {\"name\": actor.get(\"name\"), \"url\": actor.get(\"url\")} for actor in result.get(\"actor\", [])\n",
    "            ],\n",
    "            \"director\": [\n",
    "                {\"name\": director.get(\"name\"), \"url\": director.get(\"url\")} for director in result.get(\"director\", [])\n",
    "            ],\n",
    "            \"creator\": [\n",
    "                {\"name\": creator.get(\"name\"), \"url\": creator.get(\"url\")} for creator in result.get(\"creator\", [])\n",
    "                if creator.get('@type') == 'Person'\n",
    "            ]\n",
    "        }\n",
    "        return json.dumps(output, indent=2)"
   ]
  },
  {
   "cell_type": "code",
   "execution_count": null,
   "id": "3407d217",
   "metadata": {},
   "outputs": [],
   "source": []
  }
 ],
 "metadata": {
  "kernelspec": {
   "display_name": "Python 3 (ipykernel)",
   "language": "python",
   "name": "python3"
  },
  "language_info": {
   "codemirror_mode": {
    "name": "ipython",
    "version": 3
   },
   "file_extension": ".py",
   "mimetype": "text/x-python",
   "name": "python",
   "nbconvert_exporter": "python",
   "pygments_lexer": "ipython3",
   "version": "3.9.12"
  }
 },
 "nbformat": 4,
 "nbformat_minor": 5
}
